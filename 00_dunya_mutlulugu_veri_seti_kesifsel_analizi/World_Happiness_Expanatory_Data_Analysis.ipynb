{
 "cells": [
  {
   "cell_type": "markdown",
   "id": "2fe09b4b",
   "metadata": {},
   "source": [
    "## World Happinies Expanatory Data Analysis"
   ]
  },
  {
   "cell_type": "markdown",
   "id": "76465102",
   "metadata": {},
   "source": [
    "* Bu projeden ne öğreneceksiniz?¶\n",
    "* İki değişkenli veri analizi\n",
    "* Çok değişkenli veri analizi\n",
    "* Seborn kütüphane görselleştirme teknikleri: bar, box, kdei,swarm,hatmap,clustermap,\n",
    "* Ploty kütüphanesi görselleştirme teknikleri: arsa ve dünya haritasını canlandırır;"
   ]
  },
  {
   "cell_type": "markdown",
   "id": "ff5f63b7",
   "metadata": {},
   "source": [
    "### Python Kütüphaneleri\n",
    "* Bu bölümünde bu çekirdek sırasında kullanılan kütüphaneleri içe aktarıyoruz."
   ]
  },
  {
   "cell_type": "code",
   "execution_count": 1,
   "id": "d9a901e7",
   "metadata": {},
   "outputs": [
    {
     "name": "stderr",
     "output_type": "stream",
     "text": [
      "C:\\Users\\HafizeOgut\\AppData\\Local\\Temp\\ipykernel_13288\\1881271041.py:22: MatplotlibDeprecationWarning:\n",
      "\n",
      "The seaborn styles shipped by Matplotlib are deprecated since 3.6, as they no longer correspond to the styles shipped by seaborn. However, they will remain available as 'seaborn-v0_8-<style>'. Alternatively, directly use the seaborn API instead.\n",
      "\n"
     ]
    }
   ],
   "source": [
    "import numpy as np  # Numpy kütüphanesini içe aktarıyoruz. Bu kütüphane, lineer cebir ve sayısal işlemler için kullanılır.\n",
    "\n",
    "import pandas as pd  # Pandas kütüphanesini içe aktarıyoruz. Bu kütüphane, veri işleme ve CSV dosyalarıyla çalışmak için kullanılır.\n",
    "\n",
    "import matplotlib.pyplot as plt  # Matplotlib kütüphanesini içe aktarıyoruz. Bu kütüphane, grafik oluşturmak için kullanılır.\n",
    "\n",
    "import seaborn as sns  # Seaborn kütüphanesini içe aktarıyoruz. Bu kütüphane, veri görselleştirmesi yapmak için kullanılır ve grafiklerin varsayılan gri çerçevesini beyaza ayarlıyoruz.\n",
    "\n",
    "import os  # 'os' kütüphanesini içe aktarıyoruz. Bu, işletim sistemi işlemlerini yapmamıza yardımcı olur.\n",
    "\n",
    "# \"/kaggle/input\" dizini altındaki dosyaları listeleyen bir döngü oluşturuyoruz.\n",
    "for dirname, _, filenames in os.walk(\"/kaggle/input\"):\n",
    "    for filename in filenames:\n",
    "        print(os.path.join(dirname, filename))  # Dosyaların tam yolunu yazdırıyoruz.\n",
    "\n",
    "import plotly.express as px  # Plotly Express kütüphanesini içe aktarıyoruz. Bu, etkileşimli grafikler oluşturmak için kullanılır.\n",
    "\n",
    "import plotly.graph_objs as go  # Plotly Graph Objects kütüphanesini içe aktarıyoruz. Bu, daha fazla özelleştirme seçeneği sunar.\n",
    "\n",
    "from plotly.offline import init_notebook_mode, iplot  # Jupyter defterinde Plotly grafiklerini göstermek için kullanılan fonksiyonları içe aktarıyoruz.\n",
    "\n",
    "plt.style.use(\"seaborn-notebook\")  # Matplotlib stilini \"seaborn-notebook\" olarak ayarlıyoruz.\n",
    "\n",
    "import warnings\n",
    "warnings.filterwarnings(\"ignore\")  # Uyarı mesajlarını görüntülememek için bir uyarı filtresi oluşturuyoruz.\n"
   ]
  },
  {
   "cell_type": "code",
   "execution_count": null,
   "id": "d1faf385",
   "metadata": {},
   "outputs": [],
   "source": []
  }
 ],
 "metadata": {
  "kernelspec": {
   "display_name": "Python 3 (ipykernel)",
   "language": "python",
   "name": "python3"
  },
  "language_info": {
   "codemirror_mode": {
    "name": "ipython",
    "version": 3
   },
   "file_extension": ".py",
   "mimetype": "text/x-python",
   "name": "python",
   "nbconvert_exporter": "python",
   "pygments_lexer": "ipython3",
   "version": "3.11.2"
  }
 },
 "nbformat": 4,
 "nbformat_minor": 5
}
